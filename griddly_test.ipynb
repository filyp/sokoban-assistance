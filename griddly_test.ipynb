{
 "cells": [
  {
   "cell_type": "code",
   "execution_count": 1,
   "metadata": {},
   "outputs": [],
   "source": [
    "import gym\n",
    "import griddly\n",
    "from pynput import keyboard\n"
   ]
  },
  {
   "cell_type": "code",
   "execution_count": 2,
   "metadata": {},
   "outputs": [],
   "source": [
    "def get_manual_action(obs):\n",
    "    # The event listener will be running in this block\n",
    "    with keyboard.Events() as events:\n",
    "        for event in events:\n",
    "            # ignore release events\n",
    "            if type(event) == keyboard.Events.Release:\n",
    "                continue\n",
    "\n",
    "            if event.key == keyboard.Key.up:\n",
    "                return 2\n",
    "            elif event.key == keyboard.Key.down:\n",
    "                return 4\n",
    "            elif event.key == keyboard.Key.left:\n",
    "                return 1\n",
    "            elif event.key == keyboard.Key.right:\n",
    "                return 3\n",
    "            elif event.key == keyboard.Key.esc:\n",
    "                return 0\n",
    "            else:\n",
    "                print('Received event {}'.format(event))"
   ]
  },
  {
   "cell_type": "code",
   "execution_count": 4,
   "metadata": {},
   "outputs": [],
   "source": [
    "env = gym.make('GDY-Sokoban-v0', level=1)\n",
    "obs = env.reset()\n",
    "env.render() \n",
    "\n",
    "# Replace with your own control algorithm!\n",
    "for s in range(400):\n",
    "    action = get_manual_action(obs)\n",
    "    if action == 0:\n",
    "        break\n",
    "\n",
    "    obs, reward, done, info = env.step(action)\n",
    "    env.render() \n",
    "\n",
    "    if done:\n",
    "        break\n"
   ]
  },
  {
   "cell_type": "code",
   "execution_count": null,
   "metadata": {},
   "outputs": [],
   "source": []
  }
 ],
 "metadata": {
  "kernelspec": {
   "display_name": "venv",
   "language": "python",
   "name": "python3"
  },
  "language_info": {
   "codemirror_mode": {
    "name": "ipython",
    "version": 3
   },
   "file_extension": ".py",
   "mimetype": "text/x-python",
   "name": "python",
   "nbconvert_exporter": "python",
   "pygments_lexer": "ipython3",
   "version": "3.11.3"
  },
  "orig_nbformat": 4
 },
 "nbformat": 4,
 "nbformat_minor": 2
}
